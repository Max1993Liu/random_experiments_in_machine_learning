{
 "cells": [
  {
   "cell_type": "code",
   "execution_count": 197,
   "metadata": {},
   "outputs": [
    {
     "data": {
      "text/plain": [
       "11514"
      ]
     },
     "execution_count": 197,
     "metadata": {},
     "output_type": "execute_result"
    }
   ],
   "source": [
    "from sklearn.datasets import fetch_openml\n",
    "import pandas as pd\n",
    "import numpy as np\n",
    "import gc\n",
    "\n",
    "data = fetch_openml(name='satimage')\n",
    "X = pd.DataFrame(data.data, columns=data.feature_names)\n",
    "y = data.target\n",
    "\n",
    "# treat 4 as the target class\n",
    "y = (y=='4.').astype(int)\n",
    "y.mean()\n",
    "\n",
    "del data\n",
    "gc.collect()"
   ]
  },
  {
   "cell_type": "code",
   "execution_count": null,
   "metadata": {},
   "outputs": [],
   "source": []
  },
  {
   "cell_type": "markdown",
   "metadata": {},
   "source": [
    "## Baseline performance"
   ]
  },
  {
   "cell_type": "code",
   "execution_count": 198,
   "metadata": {},
   "outputs": [],
   "source": [
    "from sklearn.model_selection import StratifiedShuffleSplit, cross_validate\n",
    "from sklearn.metrics import roc_auc_score\n",
    "from sklearn.ensemble import RandomForestClassifier\n",
    "from sklearn.tree import DecisionTreeClassifier"
   ]
  },
  {
   "cell_type": "code",
   "execution_count": 199,
   "metadata": {},
   "outputs": [
    {
     "data": {
      "text/plain": [
       "fit_time       0.755876\n",
       "score_time     0.046805\n",
       "test_score     0.943349\n",
       "train_score    0.963619\n",
       "dtype: float64"
      ]
     },
     "execution_count": 199,
     "metadata": {},
     "output_type": "execute_result"
    }
   ],
   "source": [
    "cv = StratifiedShuffleSplit(n_splits=5, test_size=0.3, random_state=1024)\n",
    "\n",
    "rf = RandomForestClassifier(n_estimators=150, max_depth=5, random_state=1024)\n",
    "baseline_result = cross_validate(rf, X, y, scoring='roc_auc', cv=cv, return_train_score=True)\n",
    "pd.DataFrame(baseline_result).mean()"
   ]
  },
  {
   "cell_type": "code",
   "execution_count": null,
   "metadata": {},
   "outputs": [],
   "source": []
  },
  {
   "cell_type": "code",
   "execution_count": null,
   "metadata": {},
   "outputs": [],
   "source": []
  },
  {
   "cell_type": "markdown",
   "metadata": {},
   "source": [
    "## With weight"
   ]
  },
  {
   "cell_type": "code",
   "execution_count": 200,
   "metadata": {},
   "outputs": [
    {
     "data": {
      "text/plain": [
       "fit_time       3.296730\n",
       "score_time     1.272327\n",
       "test_score     0.943775\n",
       "train_score    0.964059\n",
       "dtype: float64"
      ]
     },
     "execution_count": 200,
     "metadata": {},
     "output_type": "execute_result"
    }
   ],
   "source": [
    "rf = RandomJungleClassifier(n_estimators=150, max_depth=5, random_state=1024)\n",
    "result = cross_validate(rf, X, y, scoring='roc_auc', cv=cv, return_train_score=True)\n",
    "pd.DataFrame(result).mean()"
   ]
  },
  {
   "cell_type": "code",
   "execution_count": null,
   "metadata": {},
   "outputs": [],
   "source": []
  },
  {
   "cell_type": "code",
   "execution_count": null,
   "metadata": {},
   "outputs": [],
   "source": []
  },
  {
   "cell_type": "code",
   "execution_count": 189,
   "metadata": {},
   "outputs": [],
   "source": [
    "from sklearn.ensemble import RandomForestClassifier\n",
    "from sklearn.utils import safe_indexing\n",
    "\n",
    "def exponential_auc_score(auc):\n",
    "    return np.exp((auc-0.5) * 10)\n",
    "\n",
    "def absolute_cut_auc_score(auc):\n",
    "    return 1\n",
    "\n",
    "class RandomJungleClassifier(RandomForestClassifier):\n",
    "    \n",
    "    def fit(self, X, y, sample_weight=None):\n",
    "        super().fit(X, y, sample_weight)\n",
    "        self.cip = [get_interval_performance(clf, n_bins=20) for clf in self.estimators_]\n",
    "        return self\n",
    "    \n",
    "    def predict_proba(self, X):\n",
    "        total_weight = np.zeros(X.shape[0])\n",
    "        weighted_prediction = np.zeros(X.shape[0])\n",
    "\n",
    "        for i, tree in enumerate(self.estimators_):\n",
    "            prediction = tree.predict_proba(X)[:, 1]\n",
    "            weight = np.array([get_weight_given_prediction(self.cip[i], p, exponential_auc_score) for p in prediction])\n",
    "\n",
    "            total_weight += weight\n",
    "            weighted_prediction += prediction * weight\n",
    "\n",
    "        prediction = np.zeros((X.shape[0], 2))\n",
    "        prediction[:, 1] = weighted_prediction / total_weight\n",
    "        prediction[:, 0] = 1 - prediction[:, 1]\n",
    "        return prediction"
   ]
  },
  {
   "cell_type": "code",
   "execution_count": 156,
   "metadata": {},
   "outputs": [],
   "source": [
    "from sklearn.utils import safe_indexing\n",
    "\n",
    "def get_interval_performance(clf, n_bins=10, score='roc_auc'):\n",
    "    # cutoffs = np.linspace(0, 1, num=n_bins)\n",
    "    # use qcut\n",
    "    interval_performance = dict()\n",
    "\n",
    "    prediction = clf.predict_proba(X)[:, 1]\n",
    "    \n",
    "    # add epilson to the last cutoff so 1 falls in the range\n",
    "    _, cutoffs = pd.qcut(prediction, q=n_bins, retbins=True, duplicates='drop')\n",
    "    cutoffs[-1] += 1e-10\n",
    "    \n",
    "    for i in range(len(cutoffs) - 1):\n",
    "        idx = np.where((cutoffs[i] <= prediction) & (prediction < cutoffs[i+1]))[0]\n",
    "        try:\n",
    "            interval_performance[(cutoffs[i], cutoffs[i+1])] = \\\n",
    "                roc_auc_score(safe_indexing(y, idx), safe_indexing(prediction, idx))\n",
    "        except:\n",
    "            continue\n",
    "    return interval_performance\n",
    "\n",
    "def get_weight_given_prediction(cip, pred, score_to_weight=None, default=0):\n",
    "    \"\"\" Given the clssifier interval performance and a single prediction score, \n",
    "        return the weight for the classifier. Default is used is the prediction\n",
    "        does not fall in any of the intervals.\n",
    "    \"\"\"\n",
    "    if score_to_weight is None:\n",
    "        score_to_weight = lambda x: x\n",
    "        \n",
    "    for itv, score in cip.items():\n",
    "        if itv[0] <= pred < itv[1]:\n",
    "            return score_to_weight(score)\n",
    "    else:\n",
    "        return default\n",
    "    \n",
    "def exponential_auc_score(auc):\n",
    "    return np.exp((auc - 0.5) * 3)\n",
    "\n",
    "def predict(rf, cip, X, score_to_weight=None):\n",
    "    total_weight = np.zeros(X.shape[0])\n",
    "    weighted_prediction = np.zeros(X.shape[0])\n",
    "\n",
    "    for i, tree in enumerate(rf.estimators_):\n",
    "        prediction = tree.predict_proba(X)[:, 1]\n",
    "        weight = np.array([get_weight_given_prediction(cip[i], p, score_to_weight) for p in prediction])\n",
    "\n",
    "        total_weight += weight\n",
    "        weighted_prediction += prediction * weight\n",
    "\n",
    "    return weighted_prediction / total_weight"
   ]
  }
 ],
 "metadata": {
  "kernelspec": {
   "display_name": "Environment (conda_anaconda3)",
   "language": "python",
   "name": "conda_anaconda3"
  },
  "language_info": {
   "codemirror_mode": {
    "name": "ipython",
    "version": 3
   },
   "file_extension": ".py",
   "mimetype": "text/x-python",
   "name": "python",
   "nbconvert_exporter": "python",
   "pygments_lexer": "ipython3",
   "version": "3.7.0"
  }
 },
 "nbformat": 4,
 "nbformat_minor": 2
}
