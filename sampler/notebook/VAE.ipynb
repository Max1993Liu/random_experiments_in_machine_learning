{
 "cells": [
  {
   "cell_type": "code",
   "execution_count": 3,
   "metadata": {},
   "outputs": [
    {
     "data": {
      "text/plain": [
       "0"
      ]
     },
     "execution_count": 3,
     "metadata": {},
     "output_type": "execute_result"
    }
   ],
   "source": [
    "# We will be using satimage data as in the Borderline-SMOTE paper\n",
    "from sklearn.datasets import fetch_openml\n",
    "import pandas as pd\n",
    "import gc\n",
    "\n",
    "data = fetch_openml(name='satimage')\n",
    "X = pd.DataFrame(data.data, columns=data.feature_names)\n",
    "y = data.target\n",
    "\n",
    "# treat 4 as the target class\n",
    "y = (y=='4.').astype(int)\n",
    "y.mean()\n",
    "\n",
    "del data\n",
    "gc.collect()"
   ]
  },
  {
   "cell_type": "code",
   "execution_count": null,
   "metadata": {},
   "outputs": [],
   "source": []
  },
  {
   "cell_type": "markdown",
   "metadata": {},
   "source": [
    "## How the baseline model does without any over-sampling"
   ]
  },
  {
   "cell_type": "code",
   "execution_count": 4,
   "metadata": {},
   "outputs": [],
   "source": [
    "from sklearn.model_selection import train_test_split\n",
    "from sklearn.metrics import roc_auc_score, recall_score, precision_score, f1_score\n",
    "from sklearn.ensemble import RandomForestClassifier"
   ]
  },
  {
   "cell_type": "code",
   "execution_count": 5,
   "metadata": {},
   "outputs": [],
   "source": [
    "X_train, X_test, y_train, y_test = train_test_split(X, y, train_size=0.7,\n",
    "                                                    stratify=y, shuffle=True, random_state=1024)"
   ]
  },
  {
   "cell_type": "code",
   "execution_count": 6,
   "metadata": {},
   "outputs": [],
   "source": [
    "def evaluate(clf):\n",
    "    pred_proba = clf.predict_proba(X_test)[:, 1]\n",
    "    pred = clf.predict(X_test)\n",
    "    metric = 'AUC: {}\\nRecall: {}\\nPrecision: {}\\nF1: {}\\n'.format(roc_auc_score(y_test, pred_proba),\n",
    "                                                              recall_score(y_test, pred),\n",
    "                                                              precision_score(y_test, pred),\n",
    "                                                              f1_score(y_test, pred))\n",
    "    print(metric)"
   ]
  },
  {
   "cell_type": "code",
   "execution_count": 7,
   "metadata": {},
   "outputs": [
    {
     "name": "stdout",
     "output_type": "stream",
     "text": [
      "AUC: 0.9455910029696799\n",
      "Recall: 0.4946808510638298\n",
      "Precision: 0.8378378378378378\n",
      "F1: 0.6220735785953178\n",
      "\n"
     ]
    }
   ],
   "source": [
    "clf = RandomForestClassifier(n_estimators=100, random_state=1024)\n",
    "clf.fit(X_train, y_train)\n",
    "\n",
    "evaluate(clf)"
   ]
  },
  {
   "cell_type": "code",
   "execution_count": null,
   "metadata": {},
   "outputs": [],
   "source": []
  },
  {
   "cell_type": "markdown",
   "metadata": {},
   "source": [
    "## With SMOTE"
   ]
  },
  {
   "cell_type": "code",
   "execution_count": 8,
   "metadata": {},
   "outputs": [
    {
     "name": "stderr",
     "output_type": "stream",
     "text": [
      "Using TensorFlow backend.\n"
     ]
    },
    {
     "name": "stdout",
     "output_type": "stream",
     "text": [
      "AUC: 0.9566677258117736\n",
      "Recall: 0.6595744680851063\n",
      "Precision: 0.6458333333333334\n",
      "F1: 0.6526315789473683\n",
      "\n"
     ]
    }
   ],
   "source": [
    "from imblearn.over_sampling import SMOTE\n",
    "\n",
    "clf.fit(*SMOTE().fit_resample(X_train, y_train))\n",
    "\n",
    "evaluate(clf)"
   ]
  },
  {
   "cell_type": "code",
   "execution_count": null,
   "metadata": {},
   "outputs": [],
   "source": []
  },
  {
   "cell_type": "code",
   "execution_count": null,
   "metadata": {},
   "outputs": [],
   "source": []
  },
  {
   "cell_type": "code",
   "execution_count": null,
   "metadata": {},
   "outputs": [],
   "source": []
  },
  {
   "cell_type": "markdown",
   "metadata": {},
   "source": [
    "## AutoEncoders?"
   ]
  },
  {
   "cell_type": "code",
   "execution_count": 9,
   "metadata": {
    "ExecuteTime": {
     "end_time": "2019-05-10T19:17:29.886938Z",
     "start_time": "2019-05-10T19:17:26.656978Z"
    }
   },
   "outputs": [
    {
     "name": "stderr",
     "output_type": "stream",
     "text": [
      "C:\\Users\\liuzhehao\\AppData\\Local\\Continuum\\anaconda3\\envs\\dl\\lib\\site-packages\\tqdm\\autonotebook\\__init__.py:14: TqdmExperimentalWarning: Using `tqdm.autonotebook.tqdm` in notebook mode. Use `tqdm.tqdm` instead to force console mode (e.g. in jupyter console)\n",
      "  \" (e.g. in jupyter console)\", TqdmExperimentalWarning)\n"
     ]
    }
   ],
   "source": [
    "import tensorflow as tf\n",
    "import numpy as np\n",
    "import matplotlib.pyplot as plt\n",
    "from tqdm.autonotebook import tqdm\n",
    "%matplotlib inline\n",
    "from IPython import display\n",
    "from tensorflow import keras\n",
    "\n",
    "# the nightly build of tensorflow_probability is required as of the time of writing this \n",
    "import tensorflow_probability as tfp\n",
    "ds = tfp.distributions\n",
    "\n",
    "import warnings\n",
    "warnings.filterwarnings('ignore')"
   ]
  },
  {
   "cell_type": "code",
   "execution_count": null,
   "metadata": {},
   "outputs": [],
   "source": []
  },
  {
   "cell_type": "code",
   "execution_count": 10,
   "metadata": {},
   "outputs": [],
   "source": [
    "def standardize(x):\n",
    "    mean_, var_ = tf.nn.moments(x, axes=[0], keepdims=True)\n",
    "    return (x - mean_) / tf.sqrt(var_)"
   ]
  },
  {
   "cell_type": "code",
   "execution_count": 25,
   "metadata": {},
   "outputs": [],
   "source": [
    "N_FEATURE = X_train.shape[1]\n",
    "BATCH_SIZE = 124\n",
    "\n",
    "train_dataset =tf.data.Dataset.from_tensor_slices(X_train.values.astype('float32')) \\\n",
    "    .shuffle(10000).batch(BATCH_SIZE).map(standardize)\n",
    "test_dataset = tf.data.Dataset.from_tensor_slices(X_test.values.astype('float32')) \\\n",
    "    .shuffle(10000).batch(10000).map(standardize)\n",
    "\n",
    "# all positive samples\n",
    "train_pos_dataset = tf.data.Dataset.from_tensor_slices(X_train[y_train==1].values.astype('float32')) \\\n",
    "    .shuffle(10000).batch(BATCH_SIZE).map(standardize)\n",
    "test_pos_dataset = tf.data.Dataset.from_tensor_slices(X_test[y_test==1].values.astype('float32')) \\\n",
    "    .shuffle(10000).batch(100).map(standardize)"
   ]
  },
  {
   "cell_type": "code",
   "execution_count": 26,
   "metadata": {},
   "outputs": [
    {
     "data": {
      "text/plain": [
       "TensorShape([124, 36])"
      ]
     },
     "execution_count": 26,
     "metadata": {},
     "output_type": "execute_result"
    }
   ],
   "source": [
    "sample = next(iter(train_pos_dataset))\n",
    "sample.shape"
   ]
  },
  {
   "cell_type": "code",
   "execution_count": null,
   "metadata": {},
   "outputs": [],
   "source": []
  },
  {
   "cell_type": "code",
   "execution_count": null,
   "metadata": {},
   "outputs": [],
   "source": []
  },
  {
   "cell_type": "code",
   "execution_count": 27,
   "metadata": {},
   "outputs": [],
   "source": [
    "def make_encoder_decoder(hidden_size=4, share_hidden=False):\n",
    "    \"\"\" If share hidden is set to False, then the actual hidden_size will be 2 * hidden_size\n",
    "        and it will split in half into the mean and std vector\n",
    "    \"\"\"\n",
    "    if share_hidden is False:\n",
    "        hidden_size = hidden_size * 2\n",
    "        \n",
    "    encoder = tf.keras.models.Sequential([\n",
    "        keras.layers.InputLayer(input_shape=(N_FEATURE,)),\n",
    "        keras.layers.Dense(36, activation=None),\n",
    "        keras.layers.LeakyReLU(alpha=0.2),\n",
    "        keras.layers.Dense(18, activation=None),\n",
    "        keras.layers.LeakyReLU(alpha=0.2),\n",
    "        keras.layers.Dense(hidden_size)\n",
    "    ])\n",
    "\n",
    "    decoder = tf.keras.models.Sequential([\n",
    "        keras.layers.Dense(18, activation=None),\n",
    "        keras.layers.LeakyReLU(alpha=0.2),\n",
    "        keras.layers.Dense(36, activation=None),\n",
    "        keras.layers.LeakyReLU(alpha=0.2),\n",
    "        keras.layers.Dense(N_FEATURE)\n",
    "    ])\n",
    "    \n",
    "    return encoder, decoder"
   ]
  },
  {
   "cell_type": "code",
   "execution_count": 28,
   "metadata": {},
   "outputs": [
    {
     "name": "stdout",
     "output_type": "stream",
     "text": [
      "Model: \"sequential_6\"\n",
      "_________________________________________________________________\n",
      "Layer (type)                 Output Shape              Param #   \n",
      "=================================================================\n",
      "dense_22 (Dense)             (None, 36)                1332      \n",
      "_________________________________________________________________\n",
      "leaky_re_lu_12 (LeakyReLU)   (None, 36)                0         \n",
      "_________________________________________________________________\n",
      "dense_23 (Dense)             (None, 18)                666       \n",
      "_________________________________________________________________\n",
      "leaky_re_lu_13 (LeakyReLU)   (None, 18)                0         \n",
      "_________________________________________________________________\n",
      "dense_24 (Dense)             (None, 8)                 152       \n",
      "=================================================================\n",
      "Total params: 2,150\n",
      "Trainable params: 2,150\n",
      "Non-trainable params: 0\n",
      "_________________________________________________________________\n"
     ]
    }
   ],
   "source": [
    "# take a look at the encoder and decoders\n",
    "e_, d_ = make_encoder_decoder()\n",
    "e_.summary()"
   ]
  },
  {
   "cell_type": "code",
   "execution_count": null,
   "metadata": {},
   "outputs": [],
   "source": []
  },
  {
   "cell_type": "code",
   "execution_count": 29,
   "metadata": {},
   "outputs": [],
   "source": [
    "def check_gradients(gradients):\n",
    "    \"\"\" Handy function to check the gradients, in case we get nans from gradient explotion \"\"\"\n",
    "    grad = [i.numpy() for i in gradients]\n",
    "    if all([np.isfinite(g).all() for g in grad]):\n",
    "        avg_grad = [np.mean(g) for g in grad]\n",
    "        mean_, std_ = np.mean(avg_grad), np.std(avg_grad)\n",
    "        print('Gradients stats: mean={}, std={}'.format(mean_, std_))\n",
    "    else:\n",
    "        print('Gradient exploded: {}'.format(grad))"
   ]
  },
  {
   "cell_type": "code",
   "execution_count": 133,
   "metadata": {},
   "outputs": [],
   "source": [
    "class VAE(tf.keras.Model):\n",
    "    \n",
    "    def __init__(self, optimizer, hidden_size=8, share_hidden=False, recon_loss_div=10.0):\n",
    "        super().__init__()\n",
    "        self.hidden_size = hidden_size\n",
    "        self.share_hidden = share_hidden\n",
    "        self.encoder, self.decoder = make_encoder_decoder(hidden_size, share_hidden)\n",
    "        self.recon_loss_div = recon_loss_div\n",
    "        \n",
    "        # only used when share hidden is True\n",
    "        self.dense_mean = keras.layers.Dense(hidden_size)\n",
    "        self.dense_std = keras.layers.Dense(hidden_size)\n",
    "        \n",
    "        # use for the weighted sum of latent loss and reconstruction loss\n",
    "        self.latent_weight = tf.Variable(0.5, dtype=tf.float32, name='recon_loss_weight')\n",
    "        self.optimizer = optimizer\n",
    "    \n",
    "    def encode(self, x):\n",
    "        encoded = self.encoder(x)\n",
    "        if self.share_hidden:\n",
    "            mu, sigma = self.dense_mean(encoded), self.dense_std(encoded)\n",
    "        else:\n",
    "            mu, sigma = tf.split(encoded, num_or_size_splits=2, axis=1)\n",
    "        return mu, sigma, ds.MultivariateNormalDiag(loc=mu, scale_diag=sigma)\n",
    "\n",
    "    def decode(self, z):\n",
    "        return self.decoder(z)\n",
    "    \n",
    "    def compute_loss(self, x):\n",
    "        mu, sigma, q_z = self.encode(x)\n",
    "#         z = sigma * q_z.sample() + mu\n",
    "        z = q_z.sample()\n",
    "        x_recon = self.decode(z)\n",
    "        \n",
    "        # standard normal distribution\n",
    "        p_z = ds.MultivariateNormalDiag(loc=[0.] * z.shape[-1], scale_diag=[1.] * z.shape[-1])\n",
    "        kl_div = ds.kl_divergence(q_z, p_z)\n",
    "        latent_loss = tf.reduce_mean(tf.maximum(kl_div, 0))\n",
    "        recon_loss = tf.reduce_mean(tf.reduce_sum(tf.square(x - x_recon), axis=0))\n",
    "#         return latent_loss, recon_loss, recon_loss / self.recon_loss_div + latent_loss\n",
    "\n",
    "        latent_weight = tf.clip_by_value(self.latent_weight, 0.1, 0.9)\n",
    "        recon_weight = 1 - latent_weight\n",
    "        return latent_loss, recon_loss, recon_weight * recon_loss + latent_weight * latent_loss\n",
    "    \n",
    "    def compute_gradients(self, x):\n",
    "        with tf.GradientTape() as tape:\n",
    "            latent_loss, recon_loss, loss = self.compute_loss(x)\n",
    "        gradients = tape.gradient(loss, self.trainable_variables)\n",
    "        return gradients\n",
    "#         grad = [g.numpy() for g in gradients]\n",
    "#         if all([np.isfinite(g).all() for g in grad]):\n",
    "#             return gradients\n",
    "#         else:\n",
    "#             print('Gradient exploded.')\n",
    "#             return None\n",
    "        \n",
    "    @tf.function\n",
    "    def train(self, train_x):\n",
    "        gradients = self.compute_gradients(train_x)\n",
    "        self.optimizer.apply_gradients(zip(gradients, self.trainable_variables))"
   ]
  },
  {
   "cell_type": "code",
   "execution_count": null,
   "metadata": {
    "scrolled": true
   },
   "outputs": [
    {
     "data": {
      "application/vnd.jupyter.widget-view+json": {
       "model_id": "528950997e9e4717a995749b3e141836",
       "version_major": 2,
       "version_minor": 0
      },
      "text/plain": [
       "HBox(children=(IntProgress(value=0, max=1000), HTML(value='')))"
      ]
     },
     "metadata": {},
     "output_type": "display_data"
    },
    {
     "name": "stdout",
     "output_type": "stream",
     "text": [
      "Epoch: 0 | recon_loss: 104.75996398925781 | latent_loss: 3.6214864253997803 | total_loss: 54.19072341918945\n",
      "<tf.Variable 'recon_loss_weight:0' shape=() dtype=float32, numpy=0.5029969>\n",
      "Epoch: 1 | recon_loss: 102.04865264892578 | latent_loss: 3.5224971771240234 | total_loss: 52.78557586669922\n",
      "<tf.Variable 'recon_loss_weight:0' shape=() dtype=float32, numpy=0.5059859>\n",
      "Epoch: 2 | recon_loss: 100.86172485351562 | latent_loss: 3.5841901302337646 | total_loss: 52.222957611083984\n",
      "<tf.Variable 'recon_loss_weight:0' shape=() dtype=float32, numpy=0.5089685>\n",
      "Epoch: 3 | recon_loss: 99.55389404296875 | latent_loss: 3.45047664642334 | total_loss: 51.5021858215332\n",
      "<tf.Variable 'recon_loss_weight:0' shape=() dtype=float32, numpy=0.51194435>\n",
      "Epoch: 4 | recon_loss: 99.96319580078125 | latent_loss: 3.3119678497314453 | total_loss: 51.63758087158203\n",
      "<tf.Variable 'recon_loss_weight:0' shape=() dtype=float32, numpy=0.51491123>\n",
      "Epoch: 5 | recon_loss: 97.3329849243164 | latent_loss: 3.200488328933716 | total_loss: 50.2667350769043\n",
      "<tf.Variable 'recon_loss_weight:0' shape=() dtype=float32, numpy=0.51787215>\n",
      "Epoch: 6 | recon_loss: 96.02317810058594 | latent_loss: 3.19619083404541 | total_loss: 49.609683990478516\n",
      "<tf.Variable 'recon_loss_weight:0' shape=() dtype=float32, numpy=0.5208247>\n",
      "Epoch: 7 | recon_loss: 95.46221923828125 | latent_loss: 3.2614104747772217 | total_loss: 49.36181640625\n",
      "<tf.Variable 'recon_loss_weight:0' shape=() dtype=float32, numpy=0.5237666>\n",
      "Epoch: 8 | recon_loss: 93.20829772949219 | latent_loss: 3.333482027053833 | total_loss: 48.27088928222656\n",
      "<tf.Variable 'recon_loss_weight:0' shape=() dtype=float32, numpy=0.5266937>\n",
      "Epoch: 9 | recon_loss: 91.98619079589844 | latent_loss: 3.4201998710632324 | total_loss: 47.70319366455078\n",
      "<tf.Variable 'recon_loss_weight:0' shape=() dtype=float32, numpy=0.5295997>\n",
      "Epoch: 10 | recon_loss: 89.43128204345703 | latent_loss: 3.358339309692383 | total_loss: 46.39480972290039\n",
      "<tf.Variable 'recon_loss_weight:0' shape=() dtype=float32, numpy=0.5324825>\n",
      "Epoch: 11 | recon_loss: 84.75723266601562 | latent_loss: 3.3121182918548584 | total_loss: 44.03467559814453\n",
      "<tf.Variable 'recon_loss_weight:0' shape=() dtype=float32, numpy=0.5353356>\n",
      "Epoch: 12 | recon_loss: 83.73070526123047 | latent_loss: 3.4499707221984863 | total_loss: 43.59033966064453\n",
      "<tf.Variable 'recon_loss_weight:0' shape=() dtype=float32, numpy=0.5381501>\n",
      "Epoch: 13 | recon_loss: 79.06771850585938 | latent_loss: 3.6889238357543945 | total_loss: 41.37832260131836\n",
      "<tf.Variable 'recon_loss_weight:0' shape=() dtype=float32, numpy=0.5409183>\n",
      "Epoch: 14 | recon_loss: 75.68179321289062 | latent_loss: 3.997896671295166 | total_loss: 39.83984375\n",
      "<tf.Variable 'recon_loss_weight:0' shape=() dtype=float32, numpy=0.5436223>\n",
      "Epoch: 15 | recon_loss: 70.42720031738281 | latent_loss: 4.360570907592773 | total_loss: 37.39388656616211\n",
      "<tf.Variable 'recon_loss_weight:0' shape=() dtype=float32, numpy=0.5462488>\n",
      "Epoch: 16 | recon_loss: 67.46424865722656 | latent_loss: 4.760297775268555 | total_loss: 36.112274169921875\n",
      "<tf.Variable 'recon_loss_weight:0' shape=() dtype=float32, numpy=0.54879344>\n",
      "Epoch: 17 | recon_loss: 62.19978713989258 | latent_loss: 5.163951396942139 | total_loss: 33.68186950683594\n",
      "<tf.Variable 'recon_loss_weight:0' shape=() dtype=float32, numpy=0.5512426>\n",
      "Epoch: 18 | recon_loss: 61.82627868652344 | latent_loss: 5.5017852783203125 | total_loss: 33.664031982421875\n",
      "<tf.Variable 'recon_loss_weight:0' shape=() dtype=float32, numpy=0.5535902>\n",
      "Epoch: 19 | recon_loss: 58.68275451660156 | latent_loss: 5.750701904296875 | total_loss: 32.21672821044922\n",
      "<tf.Variable 'recon_loss_weight:0' shape=() dtype=float32, numpy=0.55584353>\n"
     ]
    }
   ],
   "source": [
    "n_epochs = 1000\n",
    "N_TRAIN_BATCHES = y_train.sum() // BATCH_SIZE\n",
    "N_TEST_BATCHES = y_test.sum() // BATCH_SIZE\n",
    "EARLY_STOPPING_ROUNDS = 50\n",
    "\n",
    "losses = pd.DataFrame(columns = ['latent_loss', 'recon_loss', 'loss'])\n",
    "prev_loss, early_stop_round = np.inf, 0\n",
    "\n",
    "model = VAE(keras.optimizers.Adam(1e-3), hidden_size=4, share_hidden=False)\n",
    "\n",
    "for epoch in tqdm(range(n_epochs), total=n_epochs):\n",
    "    # train\n",
    "    for batch, train_x in zip(range(N_TRAIN_BATCHES), train_pos_dataset):\n",
    "        model.train(train_x)\n",
    "        \n",
    "    # test on holdout\n",
    "    loss = []\n",
    "    for batch, test_x in zip(range(N_TEST_BATCHES), test_pos_dataset):\n",
    "        loss.append(model.compute_loss(test_x))\n",
    "    losses.loc[len(losses)] = np.mean(loss, axis=0)\n",
    "    \n",
    "    # early stopping\n",
    "    round_loss = (losses.recon_loss.values[-1] + losses.latent_loss.values[-1]) / 2\n",
    "    if round_loss < prev_loss:\n",
    "        early_stop_round = 0\n",
    "    else:\n",
    "        early_stop_round += 1\n",
    "        if early_stop_round == EARLY_STOPPING_ROUNDS:\n",
    "            break\n",
    "    prev_loss = round_loss\n",
    "    \n",
    "    print(\n",
    "        \"Epoch: {} | recon_loss: {} | latent_loss: {} | total_loss: {}\".format(\n",
    "           epoch, losses.recon_loss.values[-1], losses.latent_loss.values[-1], round_loss\n",
    "        ))\n",
    "    print(model.latent_weight)"
   ]
  },
  {
   "cell_type": "code",
   "execution_count": 117,
   "metadata": {},
   "outputs": [
    {
     "data": {
      "text/plain": [
       "<matplotlib.legend.Legend at 0x41334630>"
      ]
     },
     "execution_count": 117,
     "metadata": {},
     "output_type": "execute_result"
    },
    {
     "data": {
      "image/png": "[encoded data removed]",
      "text/plain": [
       "<Figure size 432x288 with 2 Axes>"
      ]
     },
     "metadata": {
      "needs_background": "light"
     },
     "output_type": "display_data"
    }
   ],
   "source": [
    "# plot the loss throughout the training\n",
    "import matplotlib.pyplot as plt\n",
    "%matplotlib inline\n",
    "\n",
    "ax = plt.subplot(1, 1, 1)\n",
    "ax.plot(losses.index, losses.recon_loss, label='recon_loss')\n",
    "\n",
    "ax2 = ax.twinx()\n",
    "ax2.plot(losses.index, losses.latent_loss, label='latent_loss', color='orange')\n",
    "ax.figure.legend(loc='best')"
   ]
  },
  {
   "cell_type": "code",
   "execution_count": 75,
   "metadata": {},
   "outputs": [],
   "source": [
    "# save the model\n",
    "model.save_weights('./vae_1_weights.h5')"
   ]
  },
  {
   "cell_type": "code",
   "execution_count": null,
   "metadata": {},
   "outputs": [],
   "source": []
  },
  {
   "cell_type": "code",
   "execution_count": null,
   "metadata": {},
   "outputs": [],
   "source": []
  },
  {
   "cell_type": "markdown",
   "metadata": {},
   "source": [
    "## Model perfomance with no lable at all"
   ]
  },
  {
   "cell_type": "code",
   "execution_count": 55,
   "metadata": {},
   "outputs": [],
   "source": [
    "# evaluate\n",
    "p_z = ds.MultivariateNormalDiag(loc=[0.] * model.hidden_size, scale_diag=[1.] * model.hidden_size)\n",
    "\n",
    "test_tensor = tf.constant(X_test.values, dtype='float32')\n",
    "# mu, sigma = tf.split(model.encoder(test_tensor), 2, 1)\n",
    "encoded = model.encoder(test_tensor)\n",
    "mu, sigma = model.dense_mean(encoded), model.dense_std(encoded)\n",
    "\n",
    "q_z = ds.MultivariateNormalDiag(loc=mu, scale_diag=sigma)\n",
    "test_pred = ds.kl_divergence(p_z, q_z)\n",
    "# test_pred = tf.sigmoid(test_pred)\n",
    "\n",
    "test_pred = test_pred.numpy()\n",
    "test_pred = test_pred / (test_pred.max() - test_pred.min())"
   ]
  },
  {
   "cell_type": "code",
   "execution_count": 56,
   "metadata": {},
   "outputs": [
    {
     "data": {
      "text/plain": [
       "0.7206637173549073"
      ]
     },
     "execution_count": 56,
     "metadata": {},
     "output_type": "execute_result"
    }
   ],
   "source": [
    "from sklearn.metrics import roc_auc_score\n",
    "\n",
    "roc_auc_score(y_test, test_pred)"
   ]
  },
  {
   "cell_type": "code",
   "execution_count": null,
   "metadata": {},
   "outputs": [],
   "source": []
  },
  {
   "cell_type": "markdown",
   "metadata": {},
   "source": [
    "## Use labels to generate oversampled data"
   ]
  },
  {
   "cell_type": "code",
   "execution_count": 81,
   "metadata": {},
   "outputs": [
    {
     "name": "stdout",
     "output_type": "stream",
     "text": [
      "Need to generate 3627 positive samples.\n"
     ]
    }
   ],
   "source": [
    "# number of positive samples to generate so the minority class has the same amount as majority clas\n",
    "n = (y_train == 0).sum() - (y_train==1).sum()\n",
    "print('Need to generate {} positive samples.'.format(n))"
   ]
  },
  {
   "cell_type": "code",
   "execution_count": 97,
   "metadata": {},
   "outputs": [
    {
     "data": {
      "text/plain": [
       "TensorShape([3933, 36])"
      ]
     },
     "execution_count": 97,
     "metadata": {},
     "output_type": "execute_result"
    }
   ],
   "source": [
    "X_train_pos = X_train[y_train==1]\n",
    "\n",
    "_, _, ds_pos = model.encode(X_train_pos.values)\n",
    "sample_pos = ds_pos.sample(sample_shape=(n // y_train.sum()) + 1, seed=1024)\n",
    "sample_pos = tf.reshape(sample_pos, [-1, model.hidden_size])\n",
    "sample_pos = model.decode(sample_pos)\n",
    "sample_pos.shape"
   ]
  },
  {
   "cell_type": "code",
   "execution_count": 98,
   "metadata": {},
   "outputs": [],
   "source": [
    "# append new samples to original samples\n",
    "X_ = np.r_[X_train.values, sample_pos.numpy()[:n, ...]]\n",
    "y_ = np.append(y_train, [1] * n)\n",
    "\n",
    "# shuffle it \n",
    "from sklearn.utils import shuffle\n",
    "X_, y_ = shuffle(X_, y_, random_state=1024)"
   ]
  },
  {
   "cell_type": "code",
   "execution_count": 99,
   "metadata": {},
   "outputs": [
    {
     "name": "stdout",
     "output_type": "stream",
     "text": [
      "AUC: 0.9444972319649994\n",
      "Recall: 0.5851063829787234\n",
      "Precision: 0.7586206896551724\n",
      "F1: 0.6606606606606606\n",
      "\n"
     ]
    }
   ],
   "source": [
    "clf.fit(X_, y_)\n",
    "\n",
    "evaluate(clf)"
   ]
  },
  {
   "cell_type": "code",
   "execution_count": null,
   "metadata": {},
   "outputs": [],
   "source": []
  },
  {
   "cell_type": "code",
   "execution_count": null,
   "metadata": {},
   "outputs": [],
   "source": []
  },
  {
   "cell_type": "code",
   "execution_count": null,
   "metadata": {},
   "outputs": [],
   "source": []
  }
 ],
 "metadata": {
  "accelerator": "GPU",
  "colab": {
   "collapsed_sections": [],
   "provenance": [],
   "toc_visible": true
  },
  "kernelspec": {
   "display_name": "Environment (conda_dl)",
   "language": "python",
   "name": "conda_dl"
  },
  "language_info": {
   "codemirror_mode": {
    "name": "ipython",
    "version": 3
   },
   "file_extension": ".py",
   "mimetype": "text/x-python",
   "name": "python",
   "nbconvert_exporter": "python",
   "pygments_lexer": "ipython3",
   "version": "3.5.6"
  }
 },
 "nbformat": 4,
 "nbformat_minor": 2
}
