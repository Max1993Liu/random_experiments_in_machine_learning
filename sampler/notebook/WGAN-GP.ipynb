{
 "cells": [
  {
   "cell_type": "code",
   "execution_count": 7,
   "metadata": {},
   "outputs": [
    {
     "data": {
      "text/plain": [
       "37"
      ]
     },
     "execution_count": 7,
     "metadata": {},
     "output_type": "execute_result"
    }
   ],
   "source": [
    "# We will be using satimage data as in the Borderline-SMOTE paper\n",
    "from sklearn.datasets import fetch_openml\n",
    "import pandas as pd\n",
    "import gc\n",
    "\n",
    "data = fetch_openml(name='satimage')\n",
    "X = pd.DataFrame(data.data, columns=data.feature_names)\n",
    "y = data.target\n",
    "\n",
    "# treat 4 as the target class\n",
    "y = (y=='4.').astype(int)\n",
    "y.mean()\n",
    "\n",
    "del data\n",
    "gc.collect()"
   ]
  },
  {
   "cell_type": "code",
   "execution_count": 89,
   "metadata": {},
   "outputs": [],
   "source": [
    "from sklearn.model_selection import train_test_split\n",
    "from sklearn.metrics import roc_auc_score, recall_score, precision_score, f1_score\n",
    "from sklearn.ensemble import RandomForestClassifier\n",
    "\n",
    "X_train, X_test, y_train, y_test = train_test_split(X, y, train_size=0.7,\n",
    "                                                    stratify=y, shuffle=True, random_state=1024)\n",
    "\n",
    "def evaluate(clf):\n",
    "    pred_proba = clf.predict_proba(X_test)[:, 1]\n",
    "    pred = clf.predict(X_test)\n",
    "    metric = 'AUC: {}\\nRecall: {}\\nPrecision: {}\\nF1: {}\\n'.format(roc_auc_score(y_test, pred_proba),\n",
    "                                                              recall_score(y_test, pred),\n",
    "                                                              precision_score(y_test, pred),\n",
    "                                                              f1_score(y_test, pred))\n",
    "    print(metric)\n",
    "\n",
    "clf = RandomForestClassifier(n_estimators=100, random_state=1024)"
   ]
  },
  {
   "cell_type": "code",
   "execution_count": null,
   "metadata": {},
   "outputs": [],
   "source": []
  },
  {
   "cell_type": "code",
   "execution_count": null,
   "metadata": {},
   "outputs": [],
   "source": []
  },
  {
   "cell_type": "code",
   "execution_count": 9,
   "metadata": {
    "ExecuteTime": {
     "end_time": "2019-05-14T06:31:33.702580Z",
     "start_time": "2019-05-14T06:31:30.063437Z"
    },
    "colab": {},
    "colab_type": "code",
    "id": "759gzUFlSYbq",
    "outputId": "d2ec559a-bbb8-4785-8e42-f355c270fbce"
   },
   "outputs": [],
   "source": [
    "import warnings\n",
    "warnings.filterwarnings('ignore')\n",
    "\n",
    "import tensorflow as tf\n",
    "from tensorflow import keras\n",
    "import numpy as np\n",
    "import matplotlib.pyplot as plt\n",
    "from tqdm.autonotebook import tqdm\n",
    "%matplotlib inline\n",
    "from IPython import display\n",
    "import pandas as pd"
   ]
  },
  {
   "cell_type": "code",
   "execution_count": null,
   "metadata": {},
   "outputs": [],
   "source": []
  },
  {
   "cell_type": "code",
   "execution_count": 107,
   "metadata": {
    "ExecuteTime": {
     "end_time": "2019-05-14T06:31:38.044471Z",
     "start_time": "2019-05-14T06:31:33.805821Z"
    },
    "colab": {},
    "colab_type": "code",
    "id": "xhqU6sqiSYbz"
   },
   "outputs": [],
   "source": [
    "def standardize(x):\n",
    "    mean_, var_ = tf.nn.moments(x, axes=[0], keepdims=True)\n",
    "    return (x - mean_) / tf.sqrt(var_)"
   ]
  },
  {
   "cell_type": "code",
   "execution_count": 108,
   "metadata": {},
   "outputs": [],
   "source": [
    "N_FEATURE = X_train.shape[1]\n",
    "BATCH_SIZE = 128\n",
    "\n",
    "train_dataset =tf.data.Dataset.from_tensor_slices(X_train.values.astype('float32')) \\\n",
    "    .shuffle(10000).batch(BATCH_SIZE).map(standardize)\n",
    "test_dataset = tf.data.Dataset.from_tensor_slices(X_test.values.astype('float32')) \\\n",
    "    .shuffle(10000).batch(10000).map(standardize)\n",
    "\n",
    "# all positive samples\n",
    "train_pos_dataset = tf.data.Dataset.from_tensor_slices(X_train[y_train==1].values.astype('float32')) \\\n",
    "    .shuffle(10000).batch(BATCH_SIZE).map(standardize)\n",
    "test_pos_dataset = tf.data.Dataset.from_tensor_slices(X_test[y_test==1].values.astype('float32')) \\\n",
    "    .shuffle(10000).batch(100).map(standardize)"
   ]
  },
  {
   "cell_type": "code",
   "execution_count": 109,
   "metadata": {},
   "outputs": [
    {
     "data": {
      "text/plain": [
       "TensorShape([128, 36])"
      ]
     },
     "execution_count": 109,
     "metadata": {},
     "output_type": "execute_result"
    }
   ],
   "source": [
    "sample = next(iter(train_pos_dataset))\n",
    "sample.shape"
   ]
  },
  {
   "cell_type": "code",
   "execution_count": null,
   "metadata": {},
   "outputs": [],
   "source": []
  },
  {
   "cell_type": "code",
   "execution_count": 110,
   "metadata": {},
   "outputs": [],
   "source": [
    "def make_generator(hidden_size):\n",
    "    g = keras.models.Sequential([\n",
    "        keras.layers.InputLayer(input_shape=(hidden_size,)),\n",
    "        keras.layers.Dense(18, activation=None),\n",
    "        keras.layers.LeakyReLU(0.2),\n",
    "        keras.layers.Dense(N_FEATURE, activation=None),\n",
    "        keras.layers.LeakyReLU(0.2),\n",
    "        keras.layers.Dense(N_FEATURE, activation=None),\n",
    "        keras.layers.LeakyReLU(0.2)\n",
    "    ])\n",
    "    return g\n",
    "\n",
    "def make_discriminator():\n",
    "    d = keras.models.Sequential([\n",
    "        keras.layers.InputLayer(input_shape=(N_FEATURE,)),\n",
    "        keras.layers.Dense(N_FEATURE, activation='relu'),\n",
    "        keras.layers.Dense(18, activation='relu'),\n",
    "        keras.layers.Dense(8, activation='relu'),\n",
    "        keras.layers.Dense(1, activation='sigmoid')\n",
    "    ])\n",
    "    return d"
   ]
  },
  {
   "cell_type": "code",
   "execution_count": 126,
   "metadata": {},
   "outputs": [],
   "source": [
    "class WGAN(keras.models.Model):\n",
    "    \n",
    "    def __init__(self, gen_opt=None, disc_opt=None, hidden_size=8, lambda_=10.0):\n",
    "        super().__init__()\n",
    "        self.hidden_size = hidden_size\n",
    "        self.lambda_ = lambda_\n",
    "        self.gen = make_generator(hidden_size)\n",
    "        self.disc = make_discriminator()\n",
    "        \n",
    "        self.gen_opt = gen_opt or keras.optimizers.Adam(0.0001, beta_1=0.5)\n",
    "        self.disc_opt = disc_opt or keras.optimizers.RMSprop(0.0005, momentum=0.6)\n",
    "    \n",
    "    def generate(self, z):\n",
    "        return self.gen(z)\n",
    "    \n",
    "    def discriminate(self, x):\n",
    "        return self.disc(x)\n",
    "    \n",
    "    def gradient_penalty(self, x, x_gen):\n",
    "        epsilon = tf.random.uniform([x.shape[0], 1], 0.0, 1.0)\n",
    "        x_hat = epsilon * x + (1 - epsilon) * x_gen\n",
    "        with tf.GradientTape() as tape:\n",
    "            tape.watch(x_hat)\n",
    "            d_hat = self.discriminate(x_hat)\n",
    "        \n",
    "        gradients = tape.gradient(d_hat, x_hat)\n",
    "        ddx = tf.sqrt(tf.reduce_sum(gradients ** 2, axis=[1]))\n",
    "        d_regularizer = tf.reduce_mean((ddx - 1.0) ** 2)\n",
    "        return d_regularizer\n",
    "    \n",
    "    def compute_loss(self, x):\n",
    "        sample = tf.random.normal((x.shape[0], self.hidden_size))\n",
    "        x_gen = self.generate(sample)\n",
    "        \n",
    "        # run through discriminator\n",
    "        logits_x = self.discriminate(x)\n",
    "        logits_gen = self.discriminate(x_gen)\n",
    "        \n",
    "        # loss\n",
    "        gradient_loss = self.gradient_penalty(x, x_gen)\n",
    "        disc_loss = tf.reduce_mean(logits_gen - logits_x) + self.lambda_ * gradient_loss\n",
    "        gen_loss = tf.reduce_mean(1-logits_gen)\n",
    "        return disc_loss, gen_loss\n",
    "    \n",
    "    @tf.function\n",
    "    def train_generator(self, x):\n",
    "        with tf.GradientTape() as tape:\n",
    "            _, gen_loss = self.compute_loss(x)\n",
    "        gradients = tape.gradient(gen_loss, self.gen.trainable_variables)\n",
    "        self.gen_opt.apply_gradients(zip(gradients, self.gen.trainable_variables))\n",
    "    \n",
    "    @tf.function\n",
    "    def train_discriminator(self, x):\n",
    "        with tf.GradientTape() as tape:\n",
    "            disc_loss, _ = self.compute_loss(x)\n",
    "        gradients = tape.gradient(disc_loss, self.disc.trainable_variables)\n",
    "        self.disc_opt.apply_gradients(zip(gradients, self.disc.trainable_variables))\n",
    "    \n",
    "#     @tf.function\n",
    "    def train(self, x):\n",
    "        with tf.GradientTape() as gen_tape, tf.GradientTape() as disc_tape:\n",
    "            disc_loss, gen_loss = self.compute_loss(x)\n",
    "        gen_gradients = gen_tape.gradient(gen_loss, self.gen.trainable_variables)\n",
    "        disc_gradients = disc_tape.gradient(disc_loss, self.disc.trainable_variables)\n",
    "        \n",
    "        self.gen_opt.apply_gradients(zip(gen_gradients, self.gen.trainable_variables))\n",
    "        self.disc_opt.apply_gradients(zip(disc_gradients, self.disc.trainable_variables))        "
   ]
  },
  {
   "cell_type": "code",
   "execution_count": null,
   "metadata": {},
   "outputs": [],
   "source": []
  },
  {
   "cell_type": "markdown",
   "metadata": {
    "colab_type": "text",
    "id": "qwBg8NwrSYb9"
   },
   "source": [
    "### Train the model"
   ]
  },
  {
   "cell_type": "code",
   "execution_count": 124,
   "metadata": {
    "ExecuteTime": {
     "end_time": "2019-05-14T07:04:26.791634Z",
     "start_time": "2019-05-14T07:04:17.126436Z"
    },
    "colab": {},
    "colab_type": "code",
    "id": "00dI2M4iSYcE",
    "outputId": "8312d004-9e5d-43a1-f28f-6d182bd9add2"
   },
   "outputs": [
    {
     "data": {
      "application/vnd.jupyter.widget-view+json": {
       "model_id": "ff5a89b8312a420f92c3e12b80c76585",
       "version_major": 2,
       "version_minor": 0
      },
      "text/plain": [
       "HBox(children=(IntProgress(value=0, max=5), HTML(value='')))"
      ]
     },
     "metadata": {},
     "output_type": "display_data"
    },
    {
     "name": "stdout",
     "output_type": "stream",
     "text": [
      "Tensor(\"add_1:0\", shape=(), dtype=float32) Tensor(\"Mean_2:0\", shape=(), dtype=float32)\n",
      "Tensor(\"add_1:0\", shape=(), dtype=float32) Tensor(\"Mean_2:0\", shape=(), dtype=float32)\n",
      "Tensor(\"add_1:0\", shape=(), dtype=float32) Tensor(\"Mean_2:0\", shape=(), dtype=float32)\n",
      "Epoch: 0 | disc_loss: nan | gen_loss: nan\n",
      "Epoch: 1 | disc_loss: nan | gen_loss: nan\n",
      "Epoch: 2 | disc_loss: nan | gen_loss: nan\n",
      "Epoch: 3 | disc_loss: nan | gen_loss: nan\n",
      "Epoch: 4 | disc_loss: nan | gen_loss: nan\n",
      "\n"
     ]
    }
   ],
   "source": [
    "# a pandas dataframe to save the loss information to\n",
    "losses = pd.DataFrame(columns = ['disc_loss', 'gen_loss'])\n",
    "\n",
    "# optimizers\n",
    "gen_optimizer = tf.keras.optimizers.Adam(0.0001, beta_1=0.5)\n",
    "disc_optimizer = tf.keras.optimizers.RMSprop(0.0005, momentum=0.0)\n",
    "model = WGAN(gen_opt=gen_optimizer, disc_opt=disc_optimizer, hidden_size=8, lambda_=10.0)\n",
    "\n",
    "\n",
    "n_epochs = 5\n",
    "\n",
    "for epoch in tqdm(range(n_epochs)):\n",
    "    # train\n",
    "    for train_x in train_dataset:\n",
    "        model.train(train_x)\n",
    "    \n",
    "    # test on holdout\n",
    "    loss = []\n",
    "    for test_x in test_dataset:\n",
    "        loss.append(model.compute_loss(test_x))\n",
    "    losses.loc[len(losses)] = np.mean(loss, axis=0)\n",
    "    \n",
    "    print(\n",
    "        \"Epoch: {} | disc_loss: {} | gen_loss: {}\".format(\n",
    "            epoch, losses.disc_loss.values[-1], losses.gen_loss.values[-1]\n",
    "        )\n",
    "    )"
   ]
  },
  {
   "cell_type": "code",
   "execution_count": 0,
   "metadata": {
    "ExecuteTime": {
     "end_time": "2019-05-14T06:46:24.425722Z",
     "start_time": "2019-05-14T06:46:24.188266Z"
    },
    "colab": {},
    "colab_type": "code",
    "id": "XZbwB70ESYcH",
    "outputId": "40913f5e-a991-4d25-c56a-086acb4c0cd6"
   },
   "outputs": [
    {
     "data": {
      "text/plain": [
       "[<matplotlib.lines.Line2D at 0x7f82bc2fe668>]"
      ]
     },
     "execution_count": 15,
     "metadata": {
      "tags": []
     },
     "output_type": "execute_result"
    },
    {
     "data": {
      "image/png": "[encoded data removed]",
      "text/plain": [
       "<Figure size 432x288 with 1 Axes>"
      ]
     },
     "metadata": {
      "needs_background": "light",
      "tags": []
     },
     "output_type": "display_data"
    }
   ],
   "source": [
    "# plot the loss throughout the training\n",
    "import matplotlib.pyplot as plt\n",
    "%matplotlib inline\n",
    "\n",
    "ax = plt.subplot(1, 1, 1)\n",
    "ax.plot(losses.index, losses.disc_loss, label='disc_loss')\n",
    "\n",
    "ax2 = ax.twinx()\n",
    "ax2.plot(losses.index, losses.gen_loss, label='gen_loss', color='orange')\n",
    "ax.figure.legend(loc='best')"
   ]
  },
  {
   "cell_type": "code",
   "execution_count": 0,
   "metadata": {
    "colab": {},
    "colab_type": "code",
    "id": "R4EjPZD1SYcO"
   },
   "outputs": [],
   "source": []
  }
 ],
 "metadata": {
  "accelerator": "GPU",
  "colab": {
   "collapsed_sections": [],
   "name": "3.0-WGAN-GP-fashion-mnist.ipynb",
   "provenance": [],
   "toc_visible": true,
   "version": "0.3.2"
  },
  "kernelspec": {
   "display_name": "Environment (conda_dl)",
   "language": "python",
   "name": "conda_dl"
  },
  "language_info": {
   "codemirror_mode": {
    "name": "ipython",
    "version": 3
   },
   "file_extension": ".py",
   "mimetype": "text/x-python",
   "name": "python",
   "nbconvert_exporter": "python",
   "pygments_lexer": "ipython3",
   "version": "3.5.6"
  }
 },
 "nbformat": 4,
 "nbformat_minor": 1
}
